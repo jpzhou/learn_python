{
  "nbformat": 4,
  "nbformat_minor": 0,
  "metadata": {
    "colab": {
      "name": "AFM_step_step.ipynb",
      "provenance": [],
      "authorship_tag": "ABX9TyPlZXD1QnWZTuuimAeCqf1d",
      "include_colab_link": true
    },
    "kernelspec": {
      "name": "python3",
      "display_name": "Python 3"
    }
  },
  "cells": [
    {
      "cell_type": "markdown",
      "metadata": {
        "id": "view-in-github",
        "colab_type": "text"
      },
      "source": [
        "<a href=\"https://colab.research.google.com/github/jpzhou/learn_python/blob/master/AFM_step_step.ipynb\" target=\"_parent\"><img src=\"https://colab.research.google.com/assets/colab-badge.svg\" alt=\"Open In Colab\"/></a>"
      ]
    },
    {
      "cell_type": "code",
      "metadata": {
        "id": "Opkc5zAskkNx",
        "colab_type": "code",
        "colab": {
          "base_uri": "https://localhost:8080/",
          "height": 119
        },
        "outputId": "d0b13c28-37d2-45d3-bc1e-a711d3fcf1ff"
      },
      "source": [
        "!git clone https://github.com/princewen/tensorflow_practice.git "
      ],
      "execution_count": 1,
      "outputs": [
        {
          "output_type": "stream",
          "text": [
            "Cloning into 'tensorflow_practice'...\n",
            "remote: Enumerating objects: 1902, done.\u001b[K\n",
            "remote: Total 1902 (delta 0), reused 0 (delta 0), pack-reused 1902\u001b[K\n",
            "Receiving objects: 100% (1902/1902), 112.53 MiB | 12.62 MiB/s, done.\n",
            "Resolving deltas: 100% (652/652), done.\n",
            "Checking out files: 100% (1139/1139), done.\n"
          ],
          "name": "stdout"
        }
      ]
    },
    {
      "cell_type": "code",
      "metadata": {
        "id": "Jx4yhGNnlUEt",
        "colab_type": "code",
        "colab": {}
      },
      "source": [
        ""
      ],
      "execution_count": null,
      "outputs": []
    },
    {
      "cell_type": "markdown",
      "metadata": {
        "id": "mxOBEvTClZHH",
        "colab_type": "text"
      },
      "source": [
        "# New Section"
      ]
    },
    {
      "cell_type": "markdown",
      "metadata": {
        "id": "r1EUg2B1legn",
        "colab_type": "text"
      },
      "source": [
        "# New Section"
      ]
    }
  ]
}